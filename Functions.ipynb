{
 "cells": [
  {
   "cell_type": "markdown",
   "id": "c703eeec-39d8-482a-8d46-1b97de4ba2e1",
   "metadata": {},
   "source": [
    "# My first notebook\n",
    "This is my first notebook. This text is made with Markdown."
   ]
  },
  {
   "cell_type": "code",
   "execution_count": 1,
   "id": "f37d06c5-ffd2-452a-b58d-196b169c47aa",
   "metadata": {},
   "outputs": [
    {
     "name": "stdout",
     "output_type": "stream",
     "text": [
      "This is another cell, this text was printed by Python\n"
     ]
    }
   ],
   "source": [
    "print(\"This is another cell, this text was printed by Python\")"
   ]
  },
  {
   "cell_type": "markdown",
   "id": "9130fce5-9aa8-4fb0-b4b8-4dd7d2562ba4",
   "metadata": {},
   "source": [
    "#Functions\n",
    "How to use def\n"
   ]
  },
  {
   "cell_type": "markdown",
   "id": "e8ad30c3-28e1-43b5-8d03-3d9b05f985b8",
   "metadata": {},
   "source": [
    "# My first notebook\n",
    "This is my first notebook. This text is made with Markdown."
   ]
  },
  {
   "cell_type": "markdown",
   "id": "8007b155-0e46-4bd6-9678-bc2677256b3e",
   "metadata": {},
   "source": [
    "# Functions\n",
    "How to use def?"
   ]
  },
  {
   "cell_type": "markdown",
   "id": "32f9eaba-e761-42cf-9b49-3da8c384c4b2",
   "metadata": {},
   "source": [
    "We use function def, name of the funstion and in the brackets we input variabes. Example: def add(a,b):."
   ]
  },
  {
   "cell_type": "markdown",
   "id": "25bbf216-ef63-4fc8-93fa-8784bd98feba",
   "metadata": {},
   "source": [
    "To use the function we call it and enter the variables values. Ex. add(1,2)\n"
   ]
  },
  {
   "cell_type": "code",
   "execution_count": 7,
   "id": "23547489-9a57-4330-8eed-4fcdd9aa1df2",
   "metadata": {},
   "outputs": [
    {
     "data": {
      "text/plain": [
       "4"
      ]
     },
     "execution_count": 7,
     "metadata": {},
     "output_type": "execute_result"
    }
   ],
   "source": [
    "def add(a,b):\n",
    "    return a+b\n",
    "add(1,3)"
   ]
  },
  {
   "cell_type": "code",
   "execution_count": null,
   "id": "c8e292da-7708-43b1-966e-b3d873d426d1",
   "metadata": {},
   "outputs": [],
   "source": []
  }
 ],
 "metadata": {
  "kernelspec": {
   "display_name": "Python 3 (ipykernel)",
   "language": "python",
   "name": "python3"
  },
  "language_info": {
   "codemirror_mode": {
    "name": "ipython",
    "version": 3
   },
   "file_extension": ".py",
   "mimetype": "text/x-python",
   "name": "python",
   "nbconvert_exporter": "python",
   "pygments_lexer": "ipython3",
   "version": "3.10.0"
  }
 },
 "nbformat": 4,
 "nbformat_minor": 5
}
